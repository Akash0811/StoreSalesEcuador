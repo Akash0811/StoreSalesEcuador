{
 "cells": [
  {
   "cell_type": "code",
   "execution_count": 1,
   "id": "6b93c886",
   "metadata": {},
   "outputs": [],
   "source": [
    "import pandas as pd\n",
    "import seaborn as sns\n",
    "import matplotlib.pyplot as plt"
   ]
  },
  {
   "cell_type": "markdown",
   "id": "b569a149",
   "metadata": {},
   "source": [
    "## File Descriptions and Data Field Information\n",
    "\n",
    "### train.csv\n",
    "- The training data, comprising time series of features store_nbr, family, and onpromotion as well as the target sales.\n",
    "- store_nbr identifies the store at which the products are sold.\n",
    "- family identifies the type of product sold.\n",
    "- sales gives the total sales for a product family at a particular store at a given date. Fractional values are possible since products can be sold in fractional units (1.5 kg of cheese, for instance, as opposed to 1 bag of chips).\n",
    "- onpromotion gives the total number of items in a product family that were being promoted at a store at a given date."
   ]
  },
  {
   "cell_type": "code",
   "execution_count": 2,
   "id": "1c77a1e7",
   "metadata": {},
   "outputs": [
    {
     "data": {
      "text/plain": [
       "id                      int64\n",
       "date           datetime64[ns]\n",
       "store_nbr               int64\n",
       "family                 object\n",
       "sales                 float64\n",
       "onpromotion             int64\n",
       "dtype: object"
      ]
     },
     "execution_count": 2,
     "metadata": {},
     "output_type": "execute_result"
    }
   ],
   "source": [
    "train = pd.read_csv('train.csv', parse_dates=['date'])\n",
    "train.dtypes"
   ]
  },
  {
   "cell_type": "code",
   "execution_count": 3,
   "id": "1163d8d2",
   "metadata": {},
   "outputs": [
    {
     "data": {
      "text/html": [
       "<div>\n",
       "<style scoped>\n",
       "    .dataframe tbody tr th:only-of-type {\n",
       "        vertical-align: middle;\n",
       "    }\n",
       "\n",
       "    .dataframe tbody tr th {\n",
       "        vertical-align: top;\n",
       "    }\n",
       "\n",
       "    .dataframe thead th {\n",
       "        text-align: right;\n",
       "    }\n",
       "</style>\n",
       "<table border=\"1\" class=\"dataframe\">\n",
       "  <thead>\n",
       "    <tr style=\"text-align: right;\">\n",
       "      <th></th>\n",
       "      <th>id</th>\n",
       "      <th>date</th>\n",
       "      <th>family</th>\n",
       "      <th>sales</th>\n",
       "      <th>onpromotion</th>\n",
       "    </tr>\n",
       "  </thead>\n",
       "  <tbody>\n",
       "    <tr>\n",
       "      <th>count</th>\n",
       "      <td>54.0</td>\n",
       "      <td>54.0</td>\n",
       "      <td>54.0</td>\n",
       "      <td>54.0</td>\n",
       "      <td>54.0</td>\n",
       "    </tr>\n",
       "    <tr>\n",
       "      <th>mean</th>\n",
       "      <td>55572.0</td>\n",
       "      <td>55572.0</td>\n",
       "      <td>55572.0</td>\n",
       "      <td>55572.0</td>\n",
       "      <td>55572.0</td>\n",
       "    </tr>\n",
       "    <tr>\n",
       "      <th>std</th>\n",
       "      <td>0.0</td>\n",
       "      <td>0.0</td>\n",
       "      <td>0.0</td>\n",
       "      <td>0.0</td>\n",
       "      <td>0.0</td>\n",
       "    </tr>\n",
       "    <tr>\n",
       "      <th>min</th>\n",
       "      <td>55572.0</td>\n",
       "      <td>55572.0</td>\n",
       "      <td>55572.0</td>\n",
       "      <td>55572.0</td>\n",
       "      <td>55572.0</td>\n",
       "    </tr>\n",
       "    <tr>\n",
       "      <th>25%</th>\n",
       "      <td>55572.0</td>\n",
       "      <td>55572.0</td>\n",
       "      <td>55572.0</td>\n",
       "      <td>55572.0</td>\n",
       "      <td>55572.0</td>\n",
       "    </tr>\n",
       "    <tr>\n",
       "      <th>50%</th>\n",
       "      <td>55572.0</td>\n",
       "      <td>55572.0</td>\n",
       "      <td>55572.0</td>\n",
       "      <td>55572.0</td>\n",
       "      <td>55572.0</td>\n",
       "    </tr>\n",
       "    <tr>\n",
       "      <th>75%</th>\n",
       "      <td>55572.0</td>\n",
       "      <td>55572.0</td>\n",
       "      <td>55572.0</td>\n",
       "      <td>55572.0</td>\n",
       "      <td>55572.0</td>\n",
       "    </tr>\n",
       "    <tr>\n",
       "      <th>max</th>\n",
       "      <td>55572.0</td>\n",
       "      <td>55572.0</td>\n",
       "      <td>55572.0</td>\n",
       "      <td>55572.0</td>\n",
       "      <td>55572.0</td>\n",
       "    </tr>\n",
       "  </tbody>\n",
       "</table>\n",
       "</div>"
      ],
      "text/plain": [
       "            id     date   family    sales  onpromotion\n",
       "count     54.0     54.0     54.0     54.0         54.0\n",
       "mean   55572.0  55572.0  55572.0  55572.0      55572.0\n",
       "std        0.0      0.0      0.0      0.0          0.0\n",
       "min    55572.0  55572.0  55572.0  55572.0      55572.0\n",
       "25%    55572.0  55572.0  55572.0  55572.0      55572.0\n",
       "50%    55572.0  55572.0  55572.0  55572.0      55572.0\n",
       "75%    55572.0  55572.0  55572.0  55572.0      55572.0\n",
       "max    55572.0  55572.0  55572.0  55572.0      55572.0"
      ]
     },
     "execution_count": 3,
     "metadata": {},
     "output_type": "execute_result"
    }
   ],
   "source": [
    "train.groupby('store_nbr').count().describe()"
   ]
  },
  {
   "cell_type": "markdown",
   "id": "d3400c7d",
   "metadata": {},
   "source": [
    "### Each store has 55572 entries"
   ]
  },
  {
   "cell_type": "code",
   "execution_count": 4,
   "id": "3921fae9",
   "metadata": {},
   "outputs": [
    {
     "data": {
      "text/html": [
       "<div>\n",
       "<style scoped>\n",
       "    .dataframe tbody tr th:only-of-type {\n",
       "        vertical-align: middle;\n",
       "    }\n",
       "\n",
       "    .dataframe tbody tr th {\n",
       "        vertical-align: top;\n",
       "    }\n",
       "\n",
       "    .dataframe thead th {\n",
       "        text-align: right;\n",
       "    }\n",
       "</style>\n",
       "<table border=\"1\" class=\"dataframe\">\n",
       "  <thead>\n",
       "    <tr style=\"text-align: right;\">\n",
       "      <th></th>\n",
       "      <th>id</th>\n",
       "      <th>date</th>\n",
       "      <th>sales</th>\n",
       "      <th>onpromotion</th>\n",
       "    </tr>\n",
       "  </thead>\n",
       "  <tbody>\n",
       "    <tr>\n",
       "      <th>count</th>\n",
       "      <td>1782.0</td>\n",
       "      <td>1782.0</td>\n",
       "      <td>1782.0</td>\n",
       "      <td>1782.0</td>\n",
       "    </tr>\n",
       "    <tr>\n",
       "      <th>mean</th>\n",
       "      <td>1684.0</td>\n",
       "      <td>1684.0</td>\n",
       "      <td>1684.0</td>\n",
       "      <td>1684.0</td>\n",
       "    </tr>\n",
       "    <tr>\n",
       "      <th>std</th>\n",
       "      <td>0.0</td>\n",
       "      <td>0.0</td>\n",
       "      <td>0.0</td>\n",
       "      <td>0.0</td>\n",
       "    </tr>\n",
       "    <tr>\n",
       "      <th>min</th>\n",
       "      <td>1684.0</td>\n",
       "      <td>1684.0</td>\n",
       "      <td>1684.0</td>\n",
       "      <td>1684.0</td>\n",
       "    </tr>\n",
       "    <tr>\n",
       "      <th>25%</th>\n",
       "      <td>1684.0</td>\n",
       "      <td>1684.0</td>\n",
       "      <td>1684.0</td>\n",
       "      <td>1684.0</td>\n",
       "    </tr>\n",
       "    <tr>\n",
       "      <th>50%</th>\n",
       "      <td>1684.0</td>\n",
       "      <td>1684.0</td>\n",
       "      <td>1684.0</td>\n",
       "      <td>1684.0</td>\n",
       "    </tr>\n",
       "    <tr>\n",
       "      <th>75%</th>\n",
       "      <td>1684.0</td>\n",
       "      <td>1684.0</td>\n",
       "      <td>1684.0</td>\n",
       "      <td>1684.0</td>\n",
       "    </tr>\n",
       "    <tr>\n",
       "      <th>max</th>\n",
       "      <td>1684.0</td>\n",
       "      <td>1684.0</td>\n",
       "      <td>1684.0</td>\n",
       "      <td>1684.0</td>\n",
       "    </tr>\n",
       "  </tbody>\n",
       "</table>\n",
       "</div>"
      ],
      "text/plain": [
       "           id    date   sales  onpromotion\n",
       "count  1782.0  1782.0  1782.0       1782.0\n",
       "mean   1684.0  1684.0  1684.0       1684.0\n",
       "std       0.0     0.0     0.0          0.0\n",
       "min    1684.0  1684.0  1684.0       1684.0\n",
       "25%    1684.0  1684.0  1684.0       1684.0\n",
       "50%    1684.0  1684.0  1684.0       1684.0\n",
       "75%    1684.0  1684.0  1684.0       1684.0\n",
       "max    1684.0  1684.0  1684.0       1684.0"
      ]
     },
     "execution_count": 4,
     "metadata": {},
     "output_type": "execute_result"
    }
   ],
   "source": [
    "train.groupby(['store_nbr', 'family']).count().describe()"
   ]
  },
  {
   "cell_type": "markdown",
   "id": "828775f0",
   "metadata": {},
   "source": [
    "## Total 1782 categories, or need to create 1782 models for each category"
   ]
  },
  {
   "cell_type": "code",
   "execution_count": 5,
   "id": "1be4b87f",
   "metadata": {},
   "outputs": [
    {
     "data": {
      "text/html": [
       "<div>\n",
       "<style scoped>\n",
       "    .dataframe tbody tr th:only-of-type {\n",
       "        vertical-align: middle;\n",
       "    }\n",
       "\n",
       "    .dataframe tbody tr th {\n",
       "        vertical-align: top;\n",
       "    }\n",
       "\n",
       "    .dataframe thead th {\n",
       "        text-align: right;\n",
       "    }\n",
       "</style>\n",
       "<table border=\"1\" class=\"dataframe\">\n",
       "  <thead>\n",
       "    <tr style=\"text-align: right;\">\n",
       "      <th></th>\n",
       "      <th>id</th>\n",
       "      <th>date</th>\n",
       "      <th>store_nbr</th>\n",
       "      <th>family</th>\n",
       "      <th>sales</th>\n",
       "      <th>onpromotion</th>\n",
       "    </tr>\n",
       "  </thead>\n",
       "  <tbody>\n",
       "    <tr>\n",
       "      <th>0</th>\n",
       "      <td>0</td>\n",
       "      <td>2013-01-01</td>\n",
       "      <td>1</td>\n",
       "      <td>AUTOMOTIVE</td>\n",
       "      <td>0.0</td>\n",
       "      <td>0</td>\n",
       "    </tr>\n",
       "    <tr>\n",
       "      <th>1</th>\n",
       "      <td>1</td>\n",
       "      <td>2013-01-01</td>\n",
       "      <td>1</td>\n",
       "      <td>BABY CARE</td>\n",
       "      <td>0.0</td>\n",
       "      <td>0</td>\n",
       "    </tr>\n",
       "    <tr>\n",
       "      <th>2</th>\n",
       "      <td>2</td>\n",
       "      <td>2013-01-01</td>\n",
       "      <td>1</td>\n",
       "      <td>BEAUTY</td>\n",
       "      <td>0.0</td>\n",
       "      <td>0</td>\n",
       "    </tr>\n",
       "    <tr>\n",
       "      <th>3</th>\n",
       "      <td>3</td>\n",
       "      <td>2013-01-01</td>\n",
       "      <td>1</td>\n",
       "      <td>BEVERAGES</td>\n",
       "      <td>0.0</td>\n",
       "      <td>0</td>\n",
       "    </tr>\n",
       "    <tr>\n",
       "      <th>4</th>\n",
       "      <td>4</td>\n",
       "      <td>2013-01-01</td>\n",
       "      <td>1</td>\n",
       "      <td>BOOKS</td>\n",
       "      <td>0.0</td>\n",
       "      <td>0</td>\n",
       "    </tr>\n",
       "  </tbody>\n",
       "</table>\n",
       "</div>"
      ],
      "text/plain": [
       "   id       date  store_nbr      family  sales  onpromotion\n",
       "0   0 2013-01-01          1  AUTOMOTIVE    0.0            0\n",
       "1   1 2013-01-01          1   BABY CARE    0.0            0\n",
       "2   2 2013-01-01          1      BEAUTY    0.0            0\n",
       "3   3 2013-01-01          1   BEVERAGES    0.0            0\n",
       "4   4 2013-01-01          1       BOOKS    0.0            0"
      ]
     },
     "execution_count": 5,
     "metadata": {},
     "output_type": "execute_result"
    }
   ],
   "source": [
    "train.head()"
   ]
  },
  {
   "cell_type": "markdown",
   "id": "2977d0ad",
   "metadata": {},
   "source": [
    "### MIssing Days if Any"
   ]
  },
  {
   "cell_type": "code",
   "execution_count": 6,
   "id": "1da61a6b",
   "metadata": {},
   "outputs": [
    {
     "name": "stdout",
     "output_type": "stream",
     "text": [
      "The number of days between the given range of dates is :\n",
      "1688 days\n",
      "1684\n"
     ]
    }
   ],
   "source": [
    "from datetime import date\n",
    "import numpy as np\n",
    "\n",
    "d0 = np.sort(train['date'])[0]\n",
    "d1 = np.sort(train['date'])[-1]\n",
    "delta = d1 - d0\n",
    "no_of_days = train['date'].nunique()\n",
    "print('The number of days between the given range of dates is :')\n",
    "print(delta.astype('timedelta64[D]')+1)\n",
    "print(no_of_days)"
   ]
  },
  {
   "cell_type": "code",
   "execution_count": 7,
   "id": "7d1c9077",
   "metadata": {},
   "outputs": [
    {
     "data": {
      "text/plain": [
       "numpy.datetime64('2017-08-15T00:00:00.000000000')"
      ]
     },
     "execution_count": 7,
     "metadata": {},
     "output_type": "execute_result"
    }
   ],
   "source": [
    "d1"
   ]
  },
  {
   "cell_type": "markdown",
   "id": "d570f4a4",
   "metadata": {},
   "source": [
    "### Find the missing Dates"
   ]
  },
  {
   "cell_type": "code",
   "execution_count": 8,
   "id": "89cc41d5",
   "metadata": {},
   "outputs": [
    {
     "data": {
      "text/plain": [
       "DatetimeIndex(['2013-12-25', '2014-12-25', '2015-12-25', '2016-12-25'], dtype='datetime64[ns]', freq=None)"
      ]
     },
     "execution_count": 8,
     "metadata": {},
     "output_type": "execute_result"
    }
   ],
   "source": [
    "pd.date_range(start=d0, end=d1).difference(train['date'].unique())"
   ]
  },
  {
   "cell_type": "markdown",
   "id": "30102d4f",
   "metadata": {},
   "source": [
    "#### Conclusion: In Christmas, stores are always closed "
   ]
  },
  {
   "cell_type": "markdown",
   "id": "bd9f48cf",
   "metadata": {},
   "source": [
    "### Total Sales across Family"
   ]
  },
  {
   "cell_type": "code",
   "execution_count": null,
   "id": "4af3708e",
   "metadata": {},
   "outputs": [],
   "source": [
    "sns.set(rc={'figure.figsize':(20,20)})\n",
    "g= sns.catplot(data=train, x='family', y='sales', kind='box', whis=[5,95], sym=\"\", height=15, aspect=1/1\n",
    "            # col=year(date), \n",
    "            # col_wrap=3\n",
    "           )\n",
    "\n",
    "g.fig.suptitle(\"Total Sales across Family\", y=1.03)\n",
    "plt.xticks(rotation=90)\n",
    "plt.show()"
   ]
  },
  {
   "cell_type": "markdown",
   "id": "30582e0d",
   "metadata": {},
   "source": [
    "### Total Sales across Store Number"
   ]
  },
  {
   "cell_type": "code",
   "execution_count": null,
   "id": "6c0bb53a",
   "metadata": {},
   "outputs": [],
   "source": [
    "print(\"Total stores are\", train['store_nbr'].nunique())"
   ]
  },
  {
   "cell_type": "code",
   "execution_count": null,
   "id": "3008cb3f",
   "metadata": {},
   "outputs": [],
   "source": [
    "# TBD"
   ]
  },
  {
   "cell_type": "markdown",
   "id": "3a625354",
   "metadata": {},
   "source": [
    "### Total Sales & Onpromotion"
   ]
  },
  {
   "cell_type": "code",
   "execution_count": null,
   "id": "66a4370a",
   "metadata": {},
   "outputs": [],
   "source": [
    "# TBD"
   ]
  },
  {
   "cell_type": "markdown",
   "id": "8a67394b",
   "metadata": {},
   "source": [
    "### Time Series of Total Sales based on resampling on mean"
   ]
  },
  {
   "cell_type": "code",
   "execution_count": null,
   "id": "27116159",
   "metadata": {},
   "outputs": [],
   "source": [
    "sns.set(rc={'figure.figsize':(12,12)})\n",
    "\n",
    "resampled_data = train.groupby('date', as_index=False)['sales'].sum().resample('W', on='date').mean()\n",
    "g = sns.relplot(x=\"date\", y=\"sales\", data=resampled_data, kind=\"line\")\n",
    "\n",
    "g.fig.suptitle(\"Total Sales across Time\", y=1.03)"
   ]
  },
  {
   "cell_type": "code",
   "execution_count": null,
   "id": "16d88428",
   "metadata": {},
   "outputs": [],
   "source": [
    "sns.set(rc={'figure.figsize':(12,12)})\n",
    "\n",
    "resampled_data = train[['date', 'sales']].resample('W', on='date').mean()\n",
    "g = sns.relplot(x=\"date\", y=\"sales\", data=resampled_data, kind=\"line\")\n",
    "\n",
    "g.fig.suptitle(\"Total Sales across Time\", y=1.03)"
   ]
  },
  {
   "cell_type": "markdown",
   "id": "99707d13",
   "metadata": {},
   "source": [
    "### Singularity for Total Sales"
   ]
  },
  {
   "cell_type": "code",
   "execution_count": null,
   "id": "2df25ab8",
   "metadata": {},
   "outputs": [],
   "source": [
    "import statsmodels.tsa.stattools as sts\n",
    "sts.adfuller(train.groupby('date', as_index=False)['sales'].sum()['sales'])"
   ]
  },
  {
   "cell_type": "markdown",
   "id": "d913109a",
   "metadata": {},
   "source": [
    "#### Conclusion: Not Stationary but close to stationatity"
   ]
  },
  {
   "cell_type": "code",
   "execution_count": null,
   "id": "977ecb19",
   "metadata": {},
   "outputs": [],
   "source": [
    "## TBD"
   ]
  },
  {
   "cell_type": "markdown",
   "id": "c3e03a7c",
   "metadata": {},
   "source": [
    "### Seasonality"
   ]
  },
  {
   "cell_type": "code",
   "execution_count": null,
   "id": "5a76b68c",
   "metadata": {},
   "outputs": [],
   "source": [
    "from statsmodels.tsa.seasonal import seasonal_decompose"
   ]
  },
  {
   "cell_type": "code",
   "execution_count": null,
   "id": "12e0caf1",
   "metadata": {},
   "outputs": [],
   "source": [
    "intermediate = pd.DataFrame(train.groupby('date')['sales'].sum()).asfreq('d')\n",
    "intermediate.fillna(0, inplace=True)"
   ]
  },
  {
   "cell_type": "code",
   "execution_count": null,
   "id": "5915a387",
   "metadata": {
    "scrolled": true
   },
   "outputs": [],
   "source": [
    "s_dec_additive = seasonal_decompose(intermediate['sales'] , model='additive')\n",
    "s_dec_additive.plot()\n",
    "plt.show()"
   ]
  },
  {
   "cell_type": "markdown",
   "id": "1f39d77b",
   "metadata": {},
   "source": [
    "### ACF & PACF of Total Sales Time Series"
   ]
  },
  {
   "cell_type": "code",
   "execution_count": null,
   "id": "025e244d",
   "metadata": {},
   "outputs": [],
   "source": [
    "import statsmodels.graphics.tsaplots as sgt\n",
    "\n",
    "sgt.plot_acf(train.groupby('date', as_index=False)['sales'].sum()['sales'], lags=40, zero=False)\n",
    "plt.title(\"ACF For Prices\", size=20)\n",
    "plt.show()"
   ]
  },
  {
   "cell_type": "markdown",
   "id": "7edda082",
   "metadata": {},
   "source": [
    "#### Conclusion: \n",
    "- Dependence on weekends\n",
    "- Need separate tests for Weekdays & Weeknends"
   ]
  },
  {
   "cell_type": "code",
   "execution_count": null,
   "id": "f6b5b3f6",
   "metadata": {},
   "outputs": [],
   "source": [
    "sgt.plot_pacf(train.groupby('date', as_index=False)['sales'].sum()['sales'], lags=40, zero=False, method='ols')\n",
    "plt.title(\"PACF For Prices\", size=20)\n",
    "plt.show()"
   ]
  },
  {
   "cell_type": "markdown",
   "id": "35d41487",
   "metadata": {},
   "source": [
    "### Time Series of Total Sales after May 2017"
   ]
  },
  {
   "cell_type": "code",
   "execution_count": null,
   "id": "f7f7fffc",
   "metadata": {},
   "outputs": [],
   "source": [
    "sns.set(rc={'figure.figsize':(12,12)})\n",
    "\n",
    "resampled_data = train[train['date']>='2017-06-01']\n",
    "g = sns.relplot(x=\"date\", y=\"sales\", data=resampled_data, kind=\"line\", errorbar=None)\n",
    "\n",
    "g.fig.suptitle(\"Total Sales across Time after May 2017\", y=1.03)\n",
    "plt.xticks(rotation=90)\n",
    "plt.show()"
   ]
  },
  {
   "cell_type": "markdown",
   "id": "69e4a99b",
   "metadata": {},
   "source": [
    "## Last Date in Train"
   ]
  },
  {
   "cell_type": "code",
   "execution_count": null,
   "id": "f6da094a",
   "metadata": {},
   "outputs": [],
   "source": [
    "max(train['date'])"
   ]
  },
  {
   "cell_type": "markdown",
   "id": "51cf37b7",
   "metadata": {},
   "source": [
    "### Weekdays & Weekends"
   ]
  },
  {
   "cell_type": "code",
   "execution_count": null,
   "id": "0211dc84",
   "metadata": {},
   "outputs": [],
   "source": [
    "by_weekday = train.groupby(train['date'].dt.dayofweek)[['sales', 'onpromotion']].mean()\n",
    "by_weekday.index = ['Mon', 'Tues', 'Wed', 'Thurs', 'Fri', 'Sat', 'Sun']\n"
   ]
  },
  {
   "cell_type": "code",
   "execution_count": null,
   "id": "1decfa3e",
   "metadata": {},
   "outputs": [],
   "source": [
    "import numpy as np\n",
    "weekend = np.where(train['date'].dt.weekday < 5, 'Weekday', 'Weekend')\n",
    "by_weekend = train.groupby(weekend)[['sales', 'onpromotion']].mean()\n",
    "\n",
    "by_weekend"
   ]
  },
  {
   "cell_type": "markdown",
   "id": "c7d379d5",
   "metadata": {},
   "source": [
    "### test.csv\n",
    "- The test data, having the same features as the training data. You will predict the target sales for the dates in this file.\n",
    "- The dates in the test data are for the 15 days after the last date in the training data."
   ]
  },
  {
   "cell_type": "code",
   "execution_count": null,
   "id": "5b580cce",
   "metadata": {},
   "outputs": [],
   "source": [
    "test = pd.read_csv('test.csv', parse_dates=['date'])\n",
    "test.dtypes"
   ]
  },
  {
   "cell_type": "code",
   "execution_count": null,
   "id": "368aea8d",
   "metadata": {},
   "outputs": [],
   "source": [
    "test.head()"
   ]
  },
  {
   "cell_type": "code",
   "execution_count": null,
   "id": "757a1bf9",
   "metadata": {},
   "outputs": [],
   "source": [
    "test.groupby('store_nbr').count().describe()"
   ]
  },
  {
   "cell_type": "markdown",
   "id": "84bd08b9",
   "metadata": {},
   "source": [
    "### Test data set is from 16th August to 31st August"
   ]
  },
  {
   "cell_type": "markdown",
   "id": "3ba040b3",
   "metadata": {},
   "source": [
    "### sample_submission.csv\n",
    "- A sample submission file in the correct format."
   ]
  },
  {
   "cell_type": "markdown",
   "id": "ef1dcd01",
   "metadata": {},
   "source": [
    "### stores.csv\n",
    "- Store metadata, including city, state, type, and cluster.\n",
    "- cluster is a grouping of similar stores."
   ]
  },
  {
   "cell_type": "code",
   "execution_count": null,
   "id": "e6069175",
   "metadata": {},
   "outputs": [],
   "source": [
    "stores = pd.read_csv('stores.csv')\n",
    "stores.dtypes"
   ]
  },
  {
   "cell_type": "code",
   "execution_count": null,
   "id": "396b97a7",
   "metadata": {},
   "outputs": [],
   "source": [
    "stores.head()"
   ]
  },
  {
   "cell_type": "code",
   "execution_count": null,
   "id": "a11b0cf8",
   "metadata": {},
   "outputs": [],
   "source": [
    "stores.shape"
   ]
  },
  {
   "cell_type": "code",
   "execution_count": null,
   "id": "7aa8f184",
   "metadata": {},
   "outputs": [],
   "source": [
    "stores.cluster.nunique()"
   ]
  },
  {
   "cell_type": "code",
   "execution_count": null,
   "id": "0b5aada1",
   "metadata": {},
   "outputs": [],
   "source": [
    "stores.city.unique()"
   ]
  },
  {
   "cell_type": "code",
   "execution_count": null,
   "id": "33f13e16",
   "metadata": {},
   "outputs": [],
   "source": [
    "stores.state.unique()"
   ]
  },
  {
   "cell_type": "markdown",
   "id": "114eca36",
   "metadata": {},
   "source": [
    "### oil.csv\n",
    "- Daily oil price. Includes values during both the train and test data timeframes. (Ecuador is an oil-dependent country and it's economical health is highly vulnerable to shocks in oil prices.)"
   ]
  },
  {
   "cell_type": "code",
   "execution_count": null,
   "id": "3bb19aae",
   "metadata": {},
   "outputs": [],
   "source": [
    "oil = pd.read_csv('oil.csv', parse_dates=['date'])\n",
    "oil.dtypes"
   ]
  },
  {
   "cell_type": "code",
   "execution_count": null,
   "id": "606b0ebc",
   "metadata": {},
   "outputs": [],
   "source": [
    "oil.head()"
   ]
  },
  {
   "cell_type": "code",
   "execution_count": null,
   "id": "97175261",
   "metadata": {
    "scrolled": true
   },
   "outputs": [],
   "source": [
    "sns.set(rc={'figure.figsize':(12,12)})\n",
    "\n",
    "resampled_data = oil.resample('W', on='date').mean()\n",
    "g = sns.relplot(x=\"date\", y=\"dcoilwtico\", data=resampled_data, kind=\"line\")\n",
    "\n",
    "g.fig.suptitle(\"Oil price across Time\", y=1.03)\n",
    "plt.show()"
   ]
  },
  {
   "cell_type": "markdown",
   "id": "407e4ba5",
   "metadata": {},
   "source": [
    "### MIssing Days if Any"
   ]
  },
  {
   "cell_type": "code",
   "execution_count": null,
   "id": "402a1983",
   "metadata": {},
   "outputs": [],
   "source": [
    "from datetime import date\n",
    "import numpy as np\n",
    "\n",
    "d0 = np.sort(oil['date'])[0]\n",
    "d1 = np.sort(oil['date'])[-1]\n",
    "delta = d1 - d0\n",
    "no_of_days = oil['date'].nunique()\n",
    "print('The number of days between the given range of dates is :')\n",
    "print(delta.astype('timedelta64[D]')+1)\n",
    "print(no_of_days)"
   ]
  },
  {
   "cell_type": "code",
   "execution_count": null,
   "id": "d2ab2af8",
   "metadata": {},
   "outputs": [],
   "source": [
    "d1"
   ]
  },
  {
   "cell_type": "markdown",
   "id": "ca40653a",
   "metadata": {},
   "source": [
    "### Find the missing Dates"
   ]
  },
  {
   "cell_type": "code",
   "execution_count": null,
   "id": "30b532a9",
   "metadata": {},
   "outputs": [],
   "source": [
    "pd.date_range(start=d0, end=d1).difference(oil['date'].unique())"
   ]
  },
  {
   "cell_type": "code",
   "execution_count": null,
   "id": "9aa1642d",
   "metadata": {},
   "outputs": [],
   "source": [
    "oil.set_index(\"date\", inplace=True)\n",
    "oil=oil.asfreq('d')\n",
    "oil=oil.fillna(method='ffill')"
   ]
  },
  {
   "cell_type": "markdown",
   "id": "d455ced8",
   "metadata": {},
   "source": [
    "#### Conclusion\n",
    "- oil prices are unavailable on weekends\n",
    "- Use ffill to fill oil prices for weekends"
   ]
  },
  {
   "cell_type": "code",
   "execution_count": null,
   "id": "073bbd44",
   "metadata": {},
   "outputs": [],
   "source": [
    "from datetime import date\n",
    "import numpy as np\n",
    "\n",
    "d0 = np.sort(oil.index)[0]\n",
    "d1 = np.sort(oil.index)[-1]\n",
    "delta = d1 - d0\n",
    "no_of_days = oil.index.nunique()\n",
    "print('The number of days between the given range of dates is :')\n",
    "print(delta.astype('timedelta64[D]')+1)\n",
    "print(no_of_days)"
   ]
  },
  {
   "cell_type": "markdown",
   "id": "f78710f4",
   "metadata": {},
   "source": [
    "### Correlation between Oil & Sales"
   ]
  },
  {
   "cell_type": "code",
   "execution_count": null,
   "id": "71286efb",
   "metadata": {},
   "outputs": [],
   "source": [
    "oil_sales = pd.DataFrame(train.groupby('date')['sales'].sum()).merge(oil, how='inner', left_index=True, right_index=True)"
   ]
  },
  {
   "cell_type": "code",
   "execution_count": null,
   "id": "30a42626",
   "metadata": {},
   "outputs": [],
   "source": [
    "oil_sales.corr()"
   ]
  },
  {
   "cell_type": "markdown",
   "id": "bc74e87a",
   "metadata": {},
   "source": [
    "#### Conclusion: Negative Correlation on oil prices and Sum of Sales on a given day"
   ]
  },
  {
   "cell_type": "markdown",
   "id": "188557c5",
   "metadata": {},
   "source": [
    "### holidays_events.csv\n",
    "\n",
    "- Holidays and Events, with metadata\n",
    "**NOTE**: Pay special attention to the transferred column. A holiday that is transferred officially falls on that calendar day, but was moved to another date by the government. A transferred day is more like a normal day than a holiday. To find the day that it was actually celebrated, look for the corresponding row where type is Transfer. For example, the holiday Independencia de Guayaquil was transferred from 2012-10-09 to 2012-10-12, which means it was celebrated on 2012-10-12. Days that are type Bridge are extra days that are added to a holiday (e.g., to extend the break across a long weekend). These are frequently made up by the type Work Day which is a day not normally scheduled for work (e.g., Saturday) that is meant to payback the Bridge.\n",
    "\n",
    "- Additional holidays are days added a regular calendar holiday, for example, as typically happens around Christmas (making Christmas Eve a holiday).\n",
    "\n",
    "- Additional Notes\n",
    " - Wages in the public sector are paid every two weeks on the 15 th and on the last day of the month. Supermarket sales could be affected by this.\n",
    " - A magnitude 7.8 earthquake struck Ecuador on April 16, 2016. People rallied in relief efforts donating water and other first need products which greatly affected supermarket sales for several weeks after the earthquake."
   ]
  },
  {
   "cell_type": "code",
   "execution_count": null,
   "id": "ace571f3",
   "metadata": {},
   "outputs": [],
   "source": [
    "holidays = pd.read_csv('holidays_events.csv', parse_dates=['date'])\n",
    "holidays.dtypes"
   ]
  },
  {
   "cell_type": "code",
   "execution_count": null,
   "id": "aeb8971a",
   "metadata": {},
   "outputs": [],
   "source": [
    "holidays.type.unique()"
   ]
  },
  {
   "cell_type": "code",
   "execution_count": null,
   "id": "5d55d209",
   "metadata": {},
   "outputs": [],
   "source": [
    "holidays[holidays['description']==\"Independencia de Guayaquil\"]\n"
   ]
  },
  {
   "cell_type": "markdown",
   "id": "87560d0d",
   "metadata": {},
   "source": [
    "### Event, Holidays that are not transferred, Additional & Bridge are marked as holidays"
   ]
  },
  {
   "cell_type": "code",
   "execution_count": null,
   "id": "157ab662",
   "metadata": {},
   "outputs": [],
   "source": [
    "holidays['is_holiday'] = np.where((holidays['transferred']) | (holidays['type']=='Work Day') , 0, 1)"
   ]
  },
  {
   "cell_type": "code",
   "execution_count": null,
   "id": "d9dcdd9b",
   "metadata": {},
   "outputs": [],
   "source": [
    "holidays[holidays['description']==\"Independencia de Guayaquil\"]\n"
   ]
  },
  {
   "cell_type": "code",
   "execution_count": null,
   "id": "52c02c37",
   "metadata": {},
   "outputs": [],
   "source": [
    "locale_array = {}\n",
    "for item in holidays.locale_name.unique():\n",
    "    if item == 'Ecuador':\n",
    "        locale_array[item]='All'\n",
    "    elif item in stores.city.unique():\n",
    "        locale_array[item]='City'\n",
    "    elif item in stores.state.unique():\n",
    "        locale_array[item]='State'\n",
    "    else:\n",
    "        locale_array[item]=\"None of the Above\""
   ]
  },
  {
   "cell_type": "code",
   "execution_count": null,
   "id": "c9e5148e",
   "metadata": {},
   "outputs": [],
   "source": [
    "locale_array"
   ]
  },
  {
   "cell_type": "markdown",
   "id": "0ae016ff",
   "metadata": {},
   "source": [
    "## Transactions"
   ]
  },
  {
   "cell_type": "code",
   "execution_count": null,
   "id": "ad462446",
   "metadata": {},
   "outputs": [],
   "source": [
    "transactions = pd.read_csv('transactions.csv', parse_dates=['date'])\n",
    "transactions.dtypes"
   ]
  },
  {
   "cell_type": "code",
   "execution_count": null,
   "id": "e2303825",
   "metadata": {},
   "outputs": [],
   "source": [
    "transactions.tail()"
   ]
  },
  {
   "cell_type": "markdown",
   "id": "91e48db4",
   "metadata": {},
   "source": [
    "### Dependence on Payday"
   ]
  },
  {
   "cell_type": "code",
   "execution_count": null,
   "id": "2e3fa50a",
   "metadata": {},
   "outputs": [],
   "source": [
    "payday = pd.read_csv('train.csv', parse_dates=['date'])\n",
    "payday.dtypes"
   ]
  },
  {
   "cell_type": "code",
   "execution_count": null,
   "id": "ba2f18f3",
   "metadata": {},
   "outputs": [],
   "source": [
    "import datetime \n",
    "def is_payday(dt):\n",
    "    todays_month = dt.month\n",
    "    tomorrows_month = (dt + datetime.timedelta(days=1)).month\n",
    "    return int((tomorrows_month != todays_month) | (dt.day==15))"
   ]
  },
  {
   "cell_type": "code",
   "execution_count": null,
   "id": "7b2229fa",
   "metadata": {},
   "outputs": [],
   "source": [
    "payday['is_payday'] = payday['date'].apply(is_payday)"
   ]
  },
  {
   "cell_type": "code",
   "execution_count": null,
   "id": "2ad8749f",
   "metadata": {},
   "outputs": [],
   "source": [
    "payday[payday['date']=='2013-01-31']"
   ]
  },
  {
   "cell_type": "markdown",
   "id": "3e1b3353",
   "metadata": {},
   "source": [
    "# Building Simple Multiple Regression Model\n",
    "- Build 1782 models \n",
    "- Model will depend on holiday(includes weekend), oil price & payday"
   ]
  },
  {
   "cell_type": "code",
   "execution_count": null,
   "id": "3243ca37",
   "metadata": {},
   "outputs": [],
   "source": [
    "df_train = pd.read_csv('train.csv', parse_dates=['date'])\n",
    "import datetime \n",
    "def is_payday(dt):\n",
    "    todays_month = dt.month\n",
    "    tomorrows_month = (dt + datetime.timedelta(days=1)).month\n",
    "    return int((tomorrows_month != todays_month) | (dt.day==15))\n",
    "\n",
    "df_train['is_payday'] = df_train['date'].apply(is_payday)\n",
    "\n",
    "df_train['is_weekend'] = np.where(train['date'].dt.weekday < 5, 0, 1)\n",
    "\n",
    "\n",
    "df_train.head()"
   ]
  },
  {
   "cell_type": "code",
   "execution_count": null,
   "id": "55741a31",
   "metadata": {},
   "outputs": [],
   "source": [
    "df_holidays = pd.read_csv('holidays_events.csv', parse_dates=['date'])\n",
    "df_holidays['is_holiday'] = np.where((df_holidays['transferred']) | (df_holidays['type']=='Work Day') , 0, 1)\n",
    "\n",
    "df_holidays.head()"
   ]
  },
  {
   "cell_type": "code",
   "execution_count": null,
   "id": "210967f4",
   "metadata": {},
   "outputs": [],
   "source": [
    "df_oil = pd.read_csv('oil.csv', parse_dates=['date'])\n",
    "df_oil.set_index(\"date\", inplace=True)\n",
    "df_oil=df_oil.asfreq('d')\n",
    "df_oil=df_oil.fillna(method='ffill')\n",
    "\n",
    "df_oil.reset_index(inplace=True)\n",
    "\n",
    "df_oil=df_oil.fillna(method='bfill')\n",
    "\n",
    "df_oil.head()"
   ]
  },
  {
   "cell_type": "code",
   "execution_count": null,
   "id": "a0b16e14",
   "metadata": {},
   "outputs": [],
   "source": [
    "df_stores = pd.read_csv('stores.csv')\n",
    "\n",
    "locale_array = {}\n",
    "for item in df_holidays.locale_name.unique():\n",
    "    if item == 'Ecuador':\n",
    "        locale_array[item]=[item]\n",
    "    elif item in stores.city.unique():\n",
    "        locale_array[item]=[item]\n",
    "    elif item in stores.state.unique():\n",
    "        locale_array[item]=[item]\n",
    "    else:\n",
    "        locale_array[item]=[None]\n",
    "        \n",
    "def mapping_terr(place):\n",
    "    if place not in locale_array:\n",
    "        return ''\n",
    "    else:\n",
    "        return locale_array[place]\n",
    "\n"
   ]
  },
  {
   "cell_type": "code",
   "execution_count": null,
   "id": "178ce042",
   "metadata": {},
   "outputs": [],
   "source": [
    "df_mapping_file = pd.DataFrame(locale_array)\n",
    "df_mapping_file = df_mapping_file.transpose()\n",
    "\n",
    "df_mapping_file.columns=['place']\n",
    "df_mapping_file"
   ]
  },
  {
   "cell_type": "code",
   "execution_count": null,
   "id": "13a32b16",
   "metadata": {},
   "outputs": [],
   "source": [
    "df_temp_2=df_stores.merge(df_mapping_file, how='left', left_on='city', right_index=True)\n",
    "df_temp_2.head()"
   ]
  },
  {
   "cell_type": "code",
   "execution_count": null,
   "id": "2b5d3010",
   "metadata": {},
   "outputs": [],
   "source": [
    "df_temp_3=df_stores.merge(df_mapping_file, how='left', left_on='state', right_index=True)\n",
    "df_temp_3.head()"
   ]
  },
  {
   "cell_type": "code",
   "execution_count": null,
   "id": "fcffba89",
   "metadata": {},
   "outputs": [],
   "source": [
    "df_temp = df_stores\n",
    "df_temp['place']='Ecuador'\n",
    "\n",
    "df_store_mapping = pd.concat([df_temp_2, \n",
    "                              df_temp_3,\n",
    "                              df_temp], ignore_index=True)"
   ]
  },
  {
   "cell_type": "code",
   "execution_count": null,
   "id": "f787d3d6",
   "metadata": {},
   "outputs": [],
   "source": [
    "df_store_mapping = df_store_mapping[df_store_mapping['place'].notna()]\n"
   ]
  },
  {
   "cell_type": "code",
   "execution_count": null,
   "id": "a5193dc2",
   "metadata": {},
   "outputs": [],
   "source": [
    "df_holidays_store = df_holidays[['date', 'is_holiday', 'locale_name']].merge(df_store_mapping,\n",
    "                                                                             how='left',\n",
    "                                                                             left_on='locale_name',\n",
    "                                                                             right_on='place')"
   ]
  },
  {
   "cell_type": "code",
   "execution_count": null,
   "id": "672eee89",
   "metadata": {},
   "outputs": [],
   "source": [
    "df_holidays_store = df_holidays_store[['date', 'is_holiday', 'store_nbr']]\n",
    "\n",
    "df_holidays_store = df_holidays_store.groupby(['date', 'store_nbr'], as_index=False)['is_holiday'].sum()\n",
    "\n",
    "df_holidays_store['is_holiday'] = np.where(df_holidays_store['is_holiday']==0, 0, 1)"
   ]
  },
  {
   "cell_type": "code",
   "execution_count": null,
   "id": "1b54851a",
   "metadata": {},
   "outputs": [],
   "source": [
    "df_holidays_store.head()"
   ]
  },
  {
   "cell_type": "code",
   "execution_count": null,
   "id": "be0291f9",
   "metadata": {},
   "outputs": [],
   "source": [
    "df_train_final = df_train.merge(df_holidays_store, how='left', left_on=['date', 'store_nbr'], right_on=['date', 'store_nbr']).merge(df_oil, left_on='date', right_on='date', how='left')"
   ]
  },
  {
   "cell_type": "code",
   "execution_count": null,
   "id": "f79ea079",
   "metadata": {},
   "outputs": [],
   "source": [
    "df_train_final.is_holiday = np.where(df_train_final.is_holiday.fillna(0)+df_train_final.is_weekend==0, 0, 1)"
   ]
  },
  {
   "cell_type": "code",
   "execution_count": null,
   "id": "a2328f76",
   "metadata": {},
   "outputs": [],
   "source": [
    "df_train_final = df_train_final.drop('is_weekend', axis=1)\n",
    "df_train_final.head()"
   ]
  },
  {
   "cell_type": "code",
   "execution_count": null,
   "id": "981a80ab",
   "metadata": {},
   "outputs": [],
   "source": [
    "df_train_final[df_train_final['date']=='2013-01-02']"
   ]
  },
  {
   "cell_type": "markdown",
   "id": "cd6077c9",
   "metadata": {},
   "source": [
    "## Training the model"
   ]
  },
  {
   "cell_type": "code",
   "execution_count": null,
   "id": "a9dce00c",
   "metadata": {},
   "outputs": [],
   "source": [
    "from sklearn.metrics import r2_score\n",
    "from sklearn.linear_model import LinearRegression\n",
    "from sklearn.metrics import mean_squared_error as MSE"
   ]
  },
  {
   "cell_type": "code",
   "execution_count": null,
   "id": "ef3e0d6d",
   "metadata": {},
   "outputs": [],
   "source": [
    "df_1_1 = df_train_final[(df_train_final['store_nbr']==1) & (df_train_final['family']=='AUTOMOTIVE')]\n",
    "X = df_1_1[['onpromotion','is_payday','is_holiday', 'dcoilwtico' ]]\n",
    "y = df_1_1['sales']\n",
    "\n",
    "model=LinearRegression()\n",
    "model.fit(X,y)\n"
   ]
  },
  {
   "cell_type": "code",
   "execution_count": null,
   "id": "a4d9da3f",
   "metadata": {},
   "outputs": [],
   "source": [
    "np.sqrt(MSE(y, model.predict(X)))"
   ]
  },
  {
   "cell_type": "markdown",
   "id": "6410a89d",
   "metadata": {},
   "source": [
    "## ARIMA models"
   ]
  },
  {
   "cell_type": "code",
   "execution_count": null,
   "id": "f8002b58",
   "metadata": {},
   "outputs": [],
   "source": [
    "from pmdarima.arima import auto_arima"
   ]
  },
  {
   "cell_type": "code",
   "execution_count": null,
   "id": "0ed3cb81",
   "metadata": {},
   "outputs": [],
   "source": [
    "# model_auto = auto_arima(df_1_1.sales, exogenous=X,\n",
    "#                       m = 5, max_p = 5, max_q = 5, max_P = 5, max_Q = 5)"
   ]
  },
  {
   "cell_type": "markdown",
   "id": "6192dc7b",
   "metadata": {},
   "source": [
    "## Random Forests"
   ]
  },
  {
   "cell_type": "code",
   "execution_count": null,
   "id": "ad764bde",
   "metadata": {},
   "outputs": [],
   "source": [
    "from sklearn.ensemble import RandomForestRegressor\n",
    "\n",
    "regr = RandomForestRegressor(max_depth=15, random_state=0)\n",
    "regr.fit(X, y)\n"
   ]
  },
  {
   "cell_type": "code",
   "execution_count": null,
   "id": "2c8faaf2",
   "metadata": {},
   "outputs": [],
   "source": [
    "r2_score(y, regr.predict(X))"
   ]
  },
  {
   "cell_type": "markdown",
   "id": "be74f027",
   "metadata": {},
   "source": [
    "## Production ready predictions"
   ]
  },
  {
   "cell_type": "markdown",
   "id": "c5a1c2de",
   "metadata": {},
   "source": [
    "### Making Test Set Ready"
   ]
  },
  {
   "cell_type": "code",
   "execution_count": null,
   "id": "2192ce27",
   "metadata": {},
   "outputs": [],
   "source": [
    "df_test = pd.read_csv('test.csv', parse_dates=['date'])\n",
    "import datetime \n",
    "def is_payday(dt):\n",
    "    todays_month = dt.month\n",
    "    tomorrows_month = (dt + datetime.timedelta(days=1)).month\n",
    "    return int((tomorrows_month != todays_month) | (dt.day==15))\n",
    "\n",
    "df_test['is_payday'] = df_test['date'].apply(is_payday)\n",
    "\n",
    "df_test['is_weekend'] = np.where(df_test['date'].dt.weekday < 5, 0, 1)\n",
    "\n",
    "df_test.head()"
   ]
  },
  {
   "cell_type": "code",
   "execution_count": null,
   "id": "d5cdfbf3",
   "metadata": {},
   "outputs": [],
   "source": [
    "df_test_final = df_test.merge(df_holidays_store, how='left', left_on=['date', 'store_nbr'], right_on=['date', 'store_nbr']).merge(df_oil, left_on='date', right_on='date', how='left')\n",
    "df_test_final.is_holiday = np.where(df_test_final.is_holiday.fillna(0)+df_test_final.is_weekend==0, 0, 1)\n",
    "\n",
    "\n",
    "df_test_final = df_test_final.drop('is_weekend', axis=1)\n",
    "df_test_final.head()"
   ]
  },
  {
   "cell_type": "code",
   "execution_count": null,
   "id": "42b7fe97",
   "metadata": {},
   "outputs": [],
   "source": [
    "# df_train = df_train.asfreq('D', method='bfill')\n",
    "# df_train \n",
    "\n",
    "# df_train['weekshift'] = df_trai"
   ]
  },
  {
   "cell_type": "code",
   "execution_count": null,
   "id": "3ac1764a",
   "metadata": {},
   "outputs": [],
   "source": [
    "from statsmodels.tsa.statespace.sarimax import SARIMAX\n",
    "\n",
    "final_file = pd.DataFrame()\n",
    "count = 0\n",
    "\n",
    "for store_nbr in df_test_final.store_nbr.unique():\n",
    "    for family in df_test_final.family.unique():\n",
    "        df_1_1 = df_train_final[(df_train_final['store_nbr']==store_nbr) & (df_train_final['family']==family)]\n",
    "        \n",
    "#         df_1_1 = df_1_1.asfreq('D', method='bfill')\n",
    "#         df_1_1['shifted_by_week'] = df_1_1.shift(periods=-7, freq=\"D\") \n",
    "        \n",
    "#         df_1_1.reset_index()\n",
    "        \n",
    "        X = df_1_1[['onpromotion','is_payday','is_holiday', 'dcoilwtico' , 'date', 'sales']]\n",
    "        X = X.set_index('date')\n",
    "        X = X.asfreq('D', method='bfill')\n",
    "        y = X['sales']\n",
    "        \n",
    "        model = SARIMAX(y, exog=X[['onpromotion','is_payday','is_holiday', 'dcoilwtico']], order=(1,1,1),\n",
    "                       seasonal_order=(2,0,0,7))\n",
    "        arima = model.fit(maxiter=100)\n",
    "\n",
    "        \n",
    "        test = df_test_final[(df_test_final['store_nbr']==store_nbr) & (df_test_final['family']==family)]\n",
    "        \n",
    "#         test = test.asfreq('D', method='bfill')\n",
    "#         test['shifted_by_week'] = test.shift(periods=-7, freq=\"D\") \n",
    "        \n",
    "#         df_1_1.reset_index()\n",
    "        \n",
    "        start_date='2017-08-16'\n",
    "        end_date='2017-08-31'\n",
    "        \n",
    "        test = test.set_index('date')        \n",
    "        test = test.asfreq('D', method='bfill')\n",
    "        \n",
    "        new = pd.concat([test.id, pd.Series(arima.predict(exog=test[['onpromotion','is_payday','is_holiday', 'dcoilwtico' ]],\n",
    "                                                         start=start_date, end=end_date), \n",
    "                                            index=test.index)],axis=1)\n",
    "        final_file = pd.concat([final_file, new])\n",
    "        \n",
    "        count +=1\n",
    "        print(count)"
   ]
  },
  {
   "cell_type": "code",
   "execution_count": null,
   "id": "4e03536d",
   "metadata": {},
   "outputs": [],
   "source": [
    "final_file.sort_index().to_csv('submission_4.csv', index=False, header=['id', 'sales'])"
   ]
  }
 ],
 "metadata": {
  "kernelspec": {
   "display_name": "Python 3 (ipykernel)",
   "language": "python",
   "name": "python3"
  },
  "language_info": {
   "codemirror_mode": {
    "name": "ipython",
    "version": 3
   },
   "file_extension": ".py",
   "mimetype": "text/x-python",
   "name": "python",
   "nbconvert_exporter": "python",
   "pygments_lexer": "ipython3",
   "version": "3.9.2"
  }
 },
 "nbformat": 4,
 "nbformat_minor": 5
}
